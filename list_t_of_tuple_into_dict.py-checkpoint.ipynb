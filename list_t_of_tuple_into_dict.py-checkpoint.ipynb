{
 "cells": [
  {
   "cell_type": "code",
   "execution_count": null,
   "metadata": {},
   "outputs": [],
   "source": [
    "def listtodict(A,di):\n",
    "    di=dict(A)\n",
    "    return di\n",
    "A=[(\"suma\",5),(\"rahul\",10),(\"anjali\",15),(\"ramya\",20)]\n",
    "di={}\n",
    "print(\"the dictionary is::>\",listtodict(A,di))"
   ]
  }
 ],
 "metadata": {
  "kernelspec": {
   "display_name": "Python 3",
   "language": "python",
   "name": "python3"
  },
  "language_info": {
   "codemirror_mode": {
    "name": "ipython",
    "version": 3
   },
   "file_extension": ".py",
   "mimetype": "text/x-python",
   "name": "python",
   "nbconvert_exporter": "python",
   "pygments_lexer": "ipython3",
   "version": "3.7.3"
  }
 },
 "nbformat": 4,
 "nbformat_minor": 2
}
